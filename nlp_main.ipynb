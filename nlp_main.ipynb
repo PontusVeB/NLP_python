{
 "cells": [
  {
   "cell_type": "markdown",
   "id": "9a22a51e-d6ad-40e4-9830-e45ae326ef44",
   "metadata": {},
   "source": [
    "# About\n",
    "### example using of keras Tokenizer combined with sklearn model for checking sentiment of text data (Twitter US Airline Sentiment). Data comes from Kaggle.com (https://www.kaggle.com/datasets/crowdflower/twitter-airline-sentiment)\n",
    "### the goal is to predict negative/positive sentiment based on tweet text =>managed to achive ~90% accuracy "
   ]
  },
  {
   "cell_type": "markdown",
   "id": "607df76e-0092-48ea-bd30-2fe4312232ea",
   "metadata": {},
   "source": [
    "## 1. Imports"
   ]
  },
  {
   "cell_type": "code",
   "execution_count": 1,
   "id": "d7d4e848-f964-432a-980f-8d0dc56fbfa8",
   "metadata": {},
   "outputs": [],
   "source": [
    "from pathlib import Path\n",
    "import numpy as np \n",
    "import pandas as pd\n",
    "\n",
    "import re\n",
    "import warnings\n",
    "import itertools\n",
    "from datetime import datetime, timedelta\n",
    "\n",
    "import seaborn as sns\n",
    "import matplotlib.pyplot as plt\n",
    "import plotly.express as px\n",
    "import tensorflow as tf\n",
    "\n",
    "from keras.preprocessing.text import Tokenizer\n",
    "from keras.utils import pad_sequences\n",
    "from sklearn.model_selection import train_test_split\n",
    "from sklearn.metrics import confusion_matrix\n",
    "pd.options.mode.chained_assignment = None\n",
    "import random"
   ]
  },
  {
   "cell_type": "markdown",
   "id": "8dd7b0ef-70d9-4d0b-b65f-f88a1c0ff7b0",
   "metadata": {},
   "source": [
    "## 2. Paths"
   ]
  },
  {
   "cell_type": "code",
   "execution_count": 2,
   "id": "283e0981-ba89-4214-bc9d-cb8d379d09de",
   "metadata": {},
   "outputs": [],
   "source": [
    "CWD = Path.cwd()\n",
    "#folder when we store our train and test data\n",
    "DATA = CWD / \"DATA\"\n",
    "DATA.mkdir(parents=True, exist_ok=True)"
   ]
  },
  {
   "cell_type": "markdown",
   "id": "f9c1ab17-492c-4588-a145-d60a033ccb72",
   "metadata": {},
   "source": [
    "## 3. Datetime"
   ]
  },
  {
   "cell_type": "code",
   "execution_count": 3,
   "id": "0d8b1ab4-ca4c-4cb9-b0b6-e6769b1ba3de",
   "metadata": {},
   "outputs": [],
   "source": [
    "now = datetime.now()\n",
    "current_date = now.strftime(\"%Y-%m-%d\")\n",
    "current_year = now.year\n",
    "current_month = now.month"
   ]
  },
  {
   "cell_type": "markdown",
   "id": "cd1c36b3-21f2-4f24-bf56-8c6eaf020404",
   "metadata": {},
   "source": [
    "## 4. Helper method"
   ]
  },
  {
   "cell_type": "code",
   "execution_count": 4,
   "id": "5701a3f5-4eca-4bea-878c-5d1084191bd6",
   "metadata": {},
   "outputs": [],
   "source": [
    "import pandas as pd\n",
    "\n",
    "def check_data(df: pd.DataFrame) -> pd.DataFrame:\n",
    "    df_output = pd.DataFrame(columns=[\"column_name\", \"number_of_empties\",\"number_of_uniques\"])\n",
    "    for col in df.columns:\n",
    "        df_output = df_output.append({\"column_name\": col, \"number_of_empties\" : len(df[df[col].isna()]), \"number_of_uniques\": len(df[col].unique())} ,ignore_index=True)  \n",
    "    ##df_output = df_output[df_output['number_of_empties']>0]  \n",
    "    return df_output"
   ]
  },
  {
   "cell_type": "markdown",
   "id": "2ca19474-61ef-4079-a504-1981d419da8c",
   "metadata": {},
   "source": [
    "## 5 First look at data\n",
    "cleaning, feature selection, feature engineering"
   ]
  },
  {
   "cell_type": "code",
   "execution_count": 5,
   "id": "12ca8029-106b-4e0a-bf47-eb46c1f07bdc",
   "metadata": {},
   "outputs": [
    {
     "name": "stdout",
     "output_type": "stream",
     "text": [
      "<class 'pandas.core.frame.DataFrame'>\n",
      "Int64Index: 14640 entries, 570306133677760513 to 569587140490866689\n",
      "Data columns (total 14 columns):\n",
      " #   Column                        Non-Null Count  Dtype  \n",
      "---  ------                        --------------  -----  \n",
      " 0   airline_sentiment             14640 non-null  object \n",
      " 1   airline_sentiment_confidence  14640 non-null  float64\n",
      " 2   negativereason                9178 non-null   object \n",
      " 3   negativereason_confidence     10522 non-null  float64\n",
      " 4   airline                       14640 non-null  object \n",
      " 5   airline_sentiment_gold        40 non-null     object \n",
      " 6   name                          14640 non-null  object \n",
      " 7   negativereason_gold           32 non-null     object \n",
      " 8   retweet_count                 14640 non-null  int64  \n",
      " 9   text                          14640 non-null  object \n",
      " 10  tweet_coord                   1019 non-null   object \n",
      " 11  tweet_created                 14640 non-null  object \n",
      " 12  tweet_location                9907 non-null   object \n",
      " 13  user_timezone                 9820 non-null   object \n",
      "dtypes: float64(2), int64(1), object(11)\n",
      "memory usage: 1.7+ MB\n"
     ]
    }
   ],
   "source": [
    "#workspace dataframe \n",
    "df_ws = pd.read_csv(DATA/\"Tweets.csv\", index_col=0)\n",
    "df_ws.info()"
   ]
  },
  {
   "cell_type": "code",
   "execution_count": 6,
   "id": "22b9fb22-e960-4529-9731-dbafc4d504cd",
   "metadata": {},
   "outputs": [
    {
     "name": "stderr",
     "output_type": "stream",
     "text": [
      "C:\\Users\\Piotr\\AppData\\Local\\Temp/ipykernel_29108/3140603459.py:6: FutureWarning: The frame.append method is deprecated and will be removed from pandas in a future version. Use pandas.concat instead.\n",
      "  df_output = df_output.append({\"column_name\": col, \"number_of_empties\" : len(df[df[col].isna()]), \"number_of_uniques\": len(df[col].unique())} ,ignore_index=True)\n",
      "C:\\Users\\Piotr\\AppData\\Local\\Temp/ipykernel_29108/3140603459.py:6: FutureWarning: The frame.append method is deprecated and will be removed from pandas in a future version. Use pandas.concat instead.\n",
      "  df_output = df_output.append({\"column_name\": col, \"number_of_empties\" : len(df[df[col].isna()]), \"number_of_uniques\": len(df[col].unique())} ,ignore_index=True)\n",
      "C:\\Users\\Piotr\\AppData\\Local\\Temp/ipykernel_29108/3140603459.py:6: FutureWarning: The frame.append method is deprecated and will be removed from pandas in a future version. Use pandas.concat instead.\n",
      "  df_output = df_output.append({\"column_name\": col, \"number_of_empties\" : len(df[df[col].isna()]), \"number_of_uniques\": len(df[col].unique())} ,ignore_index=True)\n",
      "C:\\Users\\Piotr\\AppData\\Local\\Temp/ipykernel_29108/3140603459.py:6: FutureWarning: The frame.append method is deprecated and will be removed from pandas in a future version. Use pandas.concat instead.\n",
      "  df_output = df_output.append({\"column_name\": col, \"number_of_empties\" : len(df[df[col].isna()]), \"number_of_uniques\": len(df[col].unique())} ,ignore_index=True)\n",
      "C:\\Users\\Piotr\\AppData\\Local\\Temp/ipykernel_29108/3140603459.py:6: FutureWarning: The frame.append method is deprecated and will be removed from pandas in a future version. Use pandas.concat instead.\n",
      "  df_output = df_output.append({\"column_name\": col, \"number_of_empties\" : len(df[df[col].isna()]), \"number_of_uniques\": len(df[col].unique())} ,ignore_index=True)\n",
      "C:\\Users\\Piotr\\AppData\\Local\\Temp/ipykernel_29108/3140603459.py:6: FutureWarning: The frame.append method is deprecated and will be removed from pandas in a future version. Use pandas.concat instead.\n",
      "  df_output = df_output.append({\"column_name\": col, \"number_of_empties\" : len(df[df[col].isna()]), \"number_of_uniques\": len(df[col].unique())} ,ignore_index=True)\n",
      "C:\\Users\\Piotr\\AppData\\Local\\Temp/ipykernel_29108/3140603459.py:6: FutureWarning: The frame.append method is deprecated and will be removed from pandas in a future version. Use pandas.concat instead.\n",
      "  df_output = df_output.append({\"column_name\": col, \"number_of_empties\" : len(df[df[col].isna()]), \"number_of_uniques\": len(df[col].unique())} ,ignore_index=True)\n",
      "C:\\Users\\Piotr\\AppData\\Local\\Temp/ipykernel_29108/3140603459.py:6: FutureWarning: The frame.append method is deprecated and will be removed from pandas in a future version. Use pandas.concat instead.\n",
      "  df_output = df_output.append({\"column_name\": col, \"number_of_empties\" : len(df[df[col].isna()]), \"number_of_uniques\": len(df[col].unique())} ,ignore_index=True)\n",
      "C:\\Users\\Piotr\\AppData\\Local\\Temp/ipykernel_29108/3140603459.py:6: FutureWarning: The frame.append method is deprecated and will be removed from pandas in a future version. Use pandas.concat instead.\n",
      "  df_output = df_output.append({\"column_name\": col, \"number_of_empties\" : len(df[df[col].isna()]), \"number_of_uniques\": len(df[col].unique())} ,ignore_index=True)\n",
      "C:\\Users\\Piotr\\AppData\\Local\\Temp/ipykernel_29108/3140603459.py:6: FutureWarning: The frame.append method is deprecated and will be removed from pandas in a future version. Use pandas.concat instead.\n",
      "  df_output = df_output.append({\"column_name\": col, \"number_of_empties\" : len(df[df[col].isna()]), \"number_of_uniques\": len(df[col].unique())} ,ignore_index=True)\n",
      "C:\\Users\\Piotr\\AppData\\Local\\Temp/ipykernel_29108/3140603459.py:6: FutureWarning: The frame.append method is deprecated and will be removed from pandas in a future version. Use pandas.concat instead.\n",
      "  df_output = df_output.append({\"column_name\": col, \"number_of_empties\" : len(df[df[col].isna()]), \"number_of_uniques\": len(df[col].unique())} ,ignore_index=True)\n",
      "C:\\Users\\Piotr\\AppData\\Local\\Temp/ipykernel_29108/3140603459.py:6: FutureWarning: The frame.append method is deprecated and will be removed from pandas in a future version. Use pandas.concat instead.\n",
      "  df_output = df_output.append({\"column_name\": col, \"number_of_empties\" : len(df[df[col].isna()]), \"number_of_uniques\": len(df[col].unique())} ,ignore_index=True)\n",
      "C:\\Users\\Piotr\\AppData\\Local\\Temp/ipykernel_29108/3140603459.py:6: FutureWarning: The frame.append method is deprecated and will be removed from pandas in a future version. Use pandas.concat instead.\n",
      "  df_output = df_output.append({\"column_name\": col, \"number_of_empties\" : len(df[df[col].isna()]), \"number_of_uniques\": len(df[col].unique())} ,ignore_index=True)\n",
      "C:\\Users\\Piotr\\AppData\\Local\\Temp/ipykernel_29108/3140603459.py:6: FutureWarning: The frame.append method is deprecated and will be removed from pandas in a future version. Use pandas.concat instead.\n",
      "  df_output = df_output.append({\"column_name\": col, \"number_of_empties\" : len(df[df[col].isna()]), \"number_of_uniques\": len(df[col].unique())} ,ignore_index=True)\n"
     ]
    },
    {
     "data": {
      "text/html": [
       "<div>\n",
       "<style scoped>\n",
       "    .dataframe tbody tr th:only-of-type {\n",
       "        vertical-align: middle;\n",
       "    }\n",
       "\n",
       "    .dataframe tbody tr th {\n",
       "        vertical-align: top;\n",
       "    }\n",
       "\n",
       "    .dataframe thead th {\n",
       "        text-align: right;\n",
       "    }\n",
       "</style>\n",
       "<table border=\"1\" class=\"dataframe\">\n",
       "  <thead>\n",
       "    <tr style=\"text-align: right;\">\n",
       "      <th></th>\n",
       "      <th>column_name</th>\n",
       "      <th>number_of_empties</th>\n",
       "      <th>number_of_uniques</th>\n",
       "    </tr>\n",
       "  </thead>\n",
       "  <tbody>\n",
       "    <tr>\n",
       "      <th>0</th>\n",
       "      <td>airline_sentiment</td>\n",
       "      <td>0</td>\n",
       "      <td>3</td>\n",
       "    </tr>\n",
       "    <tr>\n",
       "      <th>1</th>\n",
       "      <td>airline_sentiment_confidence</td>\n",
       "      <td>0</td>\n",
       "      <td>1023</td>\n",
       "    </tr>\n",
       "    <tr>\n",
       "      <th>2</th>\n",
       "      <td>negativereason</td>\n",
       "      <td>5462</td>\n",
       "      <td>11</td>\n",
       "    </tr>\n",
       "    <tr>\n",
       "      <th>3</th>\n",
       "      <td>negativereason_confidence</td>\n",
       "      <td>4118</td>\n",
       "      <td>1411</td>\n",
       "    </tr>\n",
       "    <tr>\n",
       "      <th>4</th>\n",
       "      <td>airline</td>\n",
       "      <td>0</td>\n",
       "      <td>6</td>\n",
       "    </tr>\n",
       "    <tr>\n",
       "      <th>5</th>\n",
       "      <td>airline_sentiment_gold</td>\n",
       "      <td>14600</td>\n",
       "      <td>4</td>\n",
       "    </tr>\n",
       "    <tr>\n",
       "      <th>6</th>\n",
       "      <td>name</td>\n",
       "      <td>0</td>\n",
       "      <td>7701</td>\n",
       "    </tr>\n",
       "    <tr>\n",
       "      <th>7</th>\n",
       "      <td>negativereason_gold</td>\n",
       "      <td>14608</td>\n",
       "      <td>14</td>\n",
       "    </tr>\n",
       "    <tr>\n",
       "      <th>8</th>\n",
       "      <td>retweet_count</td>\n",
       "      <td>0</td>\n",
       "      <td>18</td>\n",
       "    </tr>\n",
       "    <tr>\n",
       "      <th>9</th>\n",
       "      <td>text</td>\n",
       "      <td>0</td>\n",
       "      <td>14427</td>\n",
       "    </tr>\n",
       "    <tr>\n",
       "      <th>10</th>\n",
       "      <td>tweet_coord</td>\n",
       "      <td>13621</td>\n",
       "      <td>833</td>\n",
       "    </tr>\n",
       "    <tr>\n",
       "      <th>11</th>\n",
       "      <td>tweet_created</td>\n",
       "      <td>0</td>\n",
       "      <td>14247</td>\n",
       "    </tr>\n",
       "    <tr>\n",
       "      <th>12</th>\n",
       "      <td>tweet_location</td>\n",
       "      <td>4733</td>\n",
       "      <td>3082</td>\n",
       "    </tr>\n",
       "    <tr>\n",
       "      <th>13</th>\n",
       "      <td>user_timezone</td>\n",
       "      <td>4820</td>\n",
       "      <td>86</td>\n",
       "    </tr>\n",
       "  </tbody>\n",
       "</table>\n",
       "</div>"
      ],
      "text/plain": [
       "                     column_name number_of_empties number_of_uniques\n",
       "0              airline_sentiment                 0                 3\n",
       "1   airline_sentiment_confidence                 0              1023\n",
       "2                 negativereason              5462                11\n",
       "3      negativereason_confidence              4118              1411\n",
       "4                        airline                 0                 6\n",
       "5         airline_sentiment_gold             14600                 4\n",
       "6                           name                 0              7701\n",
       "7            negativereason_gold             14608                14\n",
       "8                  retweet_count                 0                18\n",
       "9                           text                 0             14427\n",
       "10                   tweet_coord             13621               833\n",
       "11                 tweet_created                 0             14247\n",
       "12                tweet_location              4733              3082\n",
       "13                 user_timezone              4820                86"
      ]
     },
     "execution_count": 6,
     "metadata": {},
     "output_type": "execute_result"
    }
   ],
   "source": [
    "check_data(df_ws)"
   ]
  },
  {
   "cell_type": "markdown",
   "id": "ba01d6ae-1ed7-4cec-8c48-d7f88ab9e741",
   "metadata": {},
   "source": [
    "### 5.1 basic Feature selection\n",
    "looking at above checks I can clearly drop a few columns that are totaly \"informationless\" for our further model"
   ]
  },
  {
   "cell_type": "code",
   "execution_count": 7,
   "id": "b45cc147-90b8-41d5-842c-3882877f3a24",
   "metadata": {},
   "outputs": [],
   "source": [
    "df_ws_step1 = df_ws.drop(['user_timezone','tweet_coord','airline_sentiment_gold','name','negativereason_gold',\n",
    "                         'tweet_created','tweet_location'], axis=1)"
   ]
  },
  {
   "cell_type": "markdown",
   "id": "adc8f742-8f99-4cab-a13c-bef4750ed20b",
   "metadata": {},
   "source": [
    "### 5.2 our target (airline_sentiment)"
   ]
  },
  {
   "cell_type": "code",
   "execution_count": 8,
   "id": "ceecc0c8-9243-48b1-bf47-0ba184b56cda",
   "metadata": {},
   "outputs": [
    {
     "data": {
      "text/plain": [
       "<AxesSubplot: xlabel='airline_sentiment', ylabel='count'>"
      ]
     },
     "execution_count": 8,
     "metadata": {},
     "output_type": "execute_result"
    },
    {
     "data": {
      "image/png": "[encoded data removed]",
      "text/plain": [
       "<Figure size 432x288 with 1 Axes>"
      ]
     },
     "metadata": {
      "needs_background": "light"
     },
     "output_type": "display_data"
    }
   ],
   "source": [
    "sns.countplot(x=df_ws_step1['airline_sentiment'])"
   ]
  },
  {
   "cell_type": "markdown",
   "id": "9ff0ef1f-e36b-4967-b364-e248812da067",
   "metadata": {},
   "source": [
    "### 5.3 deleting neutral sentiment tweets\n",
    "we need bipolar sentiment data to catch positive/ negative sentiment based on tweet in our model"
   ]
  },
  {
   "cell_type": "code",
   "execution_count": 9,
   "id": "aa4b801b-766c-431f-b663-e565c69012a4",
   "metadata": {},
   "outputs": [
    {
     "data": {
      "text/plain": [
       "array(['positive', 'negative'], dtype=object)"
      ]
     },
     "execution_count": 9,
     "metadata": {},
     "output_type": "execute_result"
    }
   ],
   "source": [
    "df_ws_step2 = df_ws_step1[df_ws_step1['airline_sentiment'] != 'neutral']\n",
    "df_ws_step2.airline_sentiment.unique()"
   ]
  },
  {
   "cell_type": "code",
   "execution_count": 10,
   "id": "90ee3dd7-7e45-44b0-b0e9-6432c750021a",
   "metadata": {},
   "outputs": [
    {
     "data": {
      "text/plain": [
       "airline_sentiment\n",
       "negative    9178\n",
       "positive    2363\n",
       "Name: text, dtype: int64"
      ]
     },
     "execution_count": 10,
     "metadata": {},
     "output_type": "execute_result"
    }
   ],
   "source": [
    "df_ws_step2.groupby(by=['airline_sentiment']).count()['text']"
   ]
  },
  {
   "cell_type": "code",
   "execution_count": 11,
   "id": "429d45c8-13d8-4fc7-bd3e-b6093a178cf5",
   "metadata": {},
   "outputs": [
    {
     "data": {
      "text/plain": [
       "<AxesSubplot: xlabel='airline_sentiment', ylabel='count'>"
      ]
     },
     "execution_count": 11,
     "metadata": {},
     "output_type": "execute_result"
    },
    {
     "data": {
      "image/png": "[encoded data removed]",
      "text/plain": [
       "<Figure size 432x288 with 1 Axes>"
      ]
     },
     "metadata": {
      "needs_background": "light"
     },
     "output_type": "display_data"
    }
   ],
   "source": [
    "sns.countplot(x=df_ws_step2['airline_sentiment'])"
   ]
  },
  {
   "cell_type": "markdown",
   "id": "e350672b-7184-4d53-a1f3-bd06aa97459d",
   "metadata": {},
   "source": [
    "as there is a significant disproportion in \"negative\" / \"positive\" tweets I will delete some negative tweets"
   ]
  },
  {
   "cell_type": "code",
   "execution_count": 12,
   "id": "ea5ba35c-9827-40b2-9081-302da705ac0a",
   "metadata": {},
   "outputs": [
    {
     "name": "stdout",
     "output_type": "stream",
     "text": [
      "Number of tweets that are not 100% correctly marked 'negative': 1796\n"
     ]
    }
   ],
   "source": [
    "#starting with those negatives that are not sure in 100%\n",
    "conditions = (df_ws_step2['airline_sentiment']==\"negative\") & (df_ws_step2['airline_sentiment_confidence']<1)\n",
    "condtition_idx = df_ws_step2[conditions].index\n",
    "print(f\"Number of tweets that are not 100% correctly marked 'negative': {len(condtition_idx)}\")"
   ]
  },
  {
   "cell_type": "code",
   "execution_count": 13,
   "id": "d8fa542b-73d3-4619-8564-1fd75204e9ee",
   "metadata": {},
   "outputs": [],
   "source": [
    "df_ws_step3 = df_ws_step2.drop(condtition_idx)"
   ]
  },
  {
   "cell_type": "markdown",
   "id": "04753966-a361-4e26-94f1-d9e75db916a0",
   "metadata": {},
   "source": [
    "### 5.4 deleting duplicated rows "
   ]
  },
  {
   "cell_type": "code",
   "execution_count": 14,
   "id": "e3bc03d9-5616-4e2f-b4df-41e1f35782a9",
   "metadata": {},
   "outputs": [
    {
     "data": {
      "text/html": [
       "<div>\n",
       "<style scoped>\n",
       "    .dataframe tbody tr th:only-of-type {\n",
       "        vertical-align: middle;\n",
       "    }\n",
       "\n",
       "    .dataframe tbody tr th {\n",
       "        vertical-align: top;\n",
       "    }\n",
       "\n",
       "    .dataframe thead th {\n",
       "        text-align: right;\n",
       "    }\n",
       "</style>\n",
       "<table border=\"1\" class=\"dataframe\">\n",
       "  <thead>\n",
       "    <tr style=\"text-align: right;\">\n",
       "      <th></th>\n",
       "      <th>airline_sentiment</th>\n",
       "      <th>airline_sentiment_confidence</th>\n",
       "      <th>negativereason</th>\n",
       "      <th>negativereason_confidence</th>\n",
       "      <th>airline</th>\n",
       "      <th>retweet_count</th>\n",
       "      <th>text</th>\n",
       "    </tr>\n",
       "    <tr>\n",
       "      <th>tweet_id</th>\n",
       "      <th></th>\n",
       "      <th></th>\n",
       "      <th></th>\n",
       "      <th></th>\n",
       "      <th></th>\n",
       "      <th></th>\n",
       "      <th></th>\n",
       "    </tr>\n",
       "  </thead>\n",
       "  <tbody>\n",
       "    <tr>\n",
       "      <th>570308309682675712</th>\n",
       "      <td>negative</td>\n",
       "      <td>1.0</td>\n",
       "      <td>Customer Service Issue</td>\n",
       "      <td>1.0</td>\n",
       "      <td>American</td>\n",
       "      <td>0</td>\n",
       "      <td>@AmericanAir why would I even consider continu...</td>\n",
       "    </tr>\n",
       "    <tr>\n",
       "      <th>570308309682675712</th>\n",
       "      <td>negative</td>\n",
       "      <td>1.0</td>\n",
       "      <td>Customer Service Issue</td>\n",
       "      <td>1.0</td>\n",
       "      <td>American</td>\n",
       "      <td>0</td>\n",
       "      <td>@AmericanAir why would I even consider continu...</td>\n",
       "    </tr>\n",
       "  </tbody>\n",
       "</table>\n",
       "</div>"
      ],
      "text/plain": [
       "                   airline_sentiment  airline_sentiment_confidence  \\\n",
       "tweet_id                                                             \n",
       "570308309682675712          negative                           1.0   \n",
       "570308309682675712          negative                           1.0   \n",
       "\n",
       "                            negativereason  negativereason_confidence  \\\n",
       "tweet_id                                                                \n",
       "570308309682675712  Customer Service Issue                        1.0   \n",
       "570308309682675712  Customer Service Issue                        1.0   \n",
       "\n",
       "                     airline  retweet_count  \\\n",
       "tweet_id                                      \n",
       "570308309682675712  American              0   \n",
       "570308309682675712  American              0   \n",
       "\n",
       "                                                                 text  \n",
       "tweet_id                                                               \n",
       "570308309682675712  @AmericanAir why would I even consider continu...  \n",
       "570308309682675712  @AmericanAir why would I even consider continu...  "
      ]
     },
     "execution_count": 14,
     "metadata": {},
     "output_type": "execute_result"
    }
   ],
   "source": [
    "#during process of data cleaning I've also noticed some duplicated rows, here's an example:\n",
    "df_ws_step3[df_ws_step3.index.duplicated(keep=False)].loc[570308309682675712]"
   ]
  },
  {
   "cell_type": "code",
   "execution_count": 15,
   "id": "de98816a-0ec4-4084-8e09-a0db549e0ba4",
   "metadata": {},
   "outputs": [
    {
     "name": "stdout",
     "output_type": "stream",
     "text": [
      "Deleted: 87 duplicated rows\n"
     ]
    }
   ],
   "source": [
    "df_ws_step4 = df_ws_step3[~df_ws_step3.index.duplicated(keep='first')]\n",
    "print(f\"Deleted: {len(df_ws_step3) - len(df_ws_step4)} duplicated rows\")"
   ]
  },
  {
   "cell_type": "markdown",
   "id": "e8b21377-b8c8-4d5d-baea-672b96114a05",
   "metadata": {},
   "source": [
    "### 5.5 Balancing classes proportions"
   ]
  },
  {
   "cell_type": "code",
   "execution_count": 16,
   "id": "b270f56d-f444-4234-8cce-97812177ec85",
   "metadata": {},
   "outputs": [
    {
     "name": "stdout",
     "output_type": "stream",
     "text": [
      "current negative tweets: 7296\n",
      "current positive tweets: 2338\n"
     ]
    }
   ],
   "source": [
    "print(f\"current negative tweets: {df_ws_step4[df_ws_step4['airline_sentiment']=='negative']['airline_sentiment'].count()}\")\n",
    "print(f\"current positive tweets: {df_ws_step4[df_ws_step4['airline_sentiment']=='positive']['airline_sentiment'].count()}\")"
   ]
  },
  {
   "cell_type": "code",
   "execution_count": 17,
   "id": "24ad2d55-e927-4db2-a342-88e0940fc60f",
   "metadata": {},
   "outputs": [],
   "source": [
    "NEGATIVES_TO_DELETE = 4900\n",
    "# deleting first 4900 'negative' rows at random\n",
    "df_ws_step5 = df_ws_step4.drop( df_ws_step4[df_ws_step4.airline_sentiment == \"negative\"].iloc[:NEGATIVES_TO_DELETE].index  )"
   ]
  },
  {
   "cell_type": "code",
   "execution_count": 18,
   "id": "8782a730-80c1-4b2d-af53-abf4cb0e29ca",
   "metadata": {},
   "outputs": [
    {
     "name": "stdout",
     "output_type": "stream",
     "text": [
      "current negative tweets: 2396\n",
      "current positive tweets: 2338\n"
     ]
    }
   ],
   "source": [
    "print(f\"current negative tweets: {df_ws_step5[df_ws_step5['airline_sentiment']=='negative']['airline_sentiment'].count()}\")\n",
    "print(f\"current positive tweets: {df_ws_step5[df_ws_step5['airline_sentiment']=='positive']['airline_sentiment'].count()}\")"
   ]
  },
  {
   "cell_type": "code",
   "execution_count": 19,
   "id": "537f692d-5e10-4112-b963-f567f151d5c5",
   "metadata": {},
   "outputs": [
    {
     "data": {
      "text/plain": [
       "<AxesSubplot: xlabel='airline_sentiment', ylabel='count'>"
      ]
     },
     "execution_count": 19,
     "metadata": {},
     "output_type": "execute_result"
    },
    {
     "data": {
      "image/png": "[encoded data removed]",
      "text/plain": [
       "<Figure size 432x288 with 1 Axes>"
      ]
     },
     "metadata": {
      "needs_background": "light"
     },
     "output_type": "display_data"
    }
   ],
   "source": [
    "sns.countplot(x=df_ws_step5['airline_sentiment'])"
   ]
  },
  {
   "cell_type": "markdown",
   "id": "69772a09-d133-4839-9db3-e17a613694f6",
   "metadata": {},
   "source": [
    "### 5.6 new_column --> if_retweeted - based on number of tweets "
   ]
  },
  {
   "cell_type": "code",
   "execution_count": 20,
   "id": "8e7442ac-8ad4-4824-8d70-81885270417a",
   "metadata": {},
   "outputs": [],
   "source": [
    "conditions = [(df_ws_step5['retweet_count'] > 0),\n",
    "             (df_ws_step5['retweet_count'] == 0)]\n",
    "values = [1,0]\n",
    "df_ws_step5['if_retweeted'] = np.select(conditions,values)"
   ]
  },
  {
   "cell_type": "markdown",
   "id": "0bc4ad75-ea0d-4bf0-abde-39ad45b5c6e0",
   "metadata": {},
   "source": [
    "checking if it might give us some information"
   ]
  },
  {
   "cell_type": "code",
   "execution_count": 21,
   "id": "d821b327-e9ab-4896-8651-9dc24d8f4688",
   "metadata": {},
   "outputs": [
    {
     "data": {
      "text/html": [
       "<div>\n",
       "<style scoped>\n",
       "    .dataframe tbody tr th:only-of-type {\n",
       "        vertical-align: middle;\n",
       "    }\n",
       "\n",
       "    .dataframe tbody tr th {\n",
       "        vertical-align: top;\n",
       "    }\n",
       "\n",
       "    .dataframe thead tr th {\n",
       "        text-align: left;\n",
       "    }\n",
       "\n",
       "    .dataframe thead tr:last-of-type th {\n",
       "        text-align: right;\n",
       "    }\n",
       "</style>\n",
       "<table border=\"1\" class=\"dataframe\">\n",
       "  <thead>\n",
       "    <tr>\n",
       "      <th></th>\n",
       "      <th colspan=\"2\" halign=\"left\">tweet_count</th>\n",
       "    </tr>\n",
       "    <tr>\n",
       "      <th>airline_sentiment</th>\n",
       "      <th>negative</th>\n",
       "      <th>positive</th>\n",
       "    </tr>\n",
       "    <tr>\n",
       "      <th>if_retweeted</th>\n",
       "      <th></th>\n",
       "      <th></th>\n",
       "    </tr>\n",
       "  </thead>\n",
       "  <tbody>\n",
       "    <tr>\n",
       "      <th>0</th>\n",
       "      <td>2311</td>\n",
       "      <td>2262</td>\n",
       "    </tr>\n",
       "    <tr>\n",
       "      <th>1</th>\n",
       "      <td>85</td>\n",
       "      <td>76</td>\n",
       "    </tr>\n",
       "  </tbody>\n",
       "</table>\n",
       "</div>"
      ],
      "text/plain": [
       "                  tweet_count         \n",
       "airline_sentiment    negative positive\n",
       "if_retweeted                          \n",
       "0                        2311     2262\n",
       "1                          85       76"
      ]
     },
     "execution_count": 21,
     "metadata": {},
     "output_type": "execute_result"
    }
   ],
   "source": [
    "if_retweeted_check_groups = df_ws_step5.groupby(by=['if_retweeted','airline_sentiment']).agg(tweet_count = ('airline_sentiment','count')).unstack()\n",
    "if_retweeted_check_groups"
   ]
  },
  {
   "cell_type": "code",
   "execution_count": 22,
   "id": "3047a94a-56b7-4b8e-8957-6e5c19aef8f2",
   "metadata": {},
   "outputs": [
    {
     "data": {
      "text/plain": [
       "<AxesSubplot: xlabel='if_retweeted'>"
      ]
     },
     "execution_count": 22,
     "metadata": {},
     "output_type": "execute_result"
    },
    {
     "data": {
      "image/png": "[encoded data removed]",
      "text/plain": [
       "<Figure size 432x288 with 1 Axes>"
      ]
     },
     "metadata": {
      "needs_background": "light"
     },
     "output_type": "display_data"
    }
   ],
   "source": [
    "if_retweeted_check_groups.plot(kind='bar')"
   ]
  },
  {
   "cell_type": "markdown",
   "id": "09d7d92c-2225-43a5-9159-f54a6c9e2a4a",
   "metadata": {},
   "source": [
    "This clearly show that the number of retweets is worthless in our case"
   ]
  },
  {
   "cell_type": "markdown",
   "id": "a1740493-5172-43d8-8918-04a0ef3ae4c2",
   "metadata": {},
   "source": [
    "### 5.7 checking 'airline' field"
   ]
  },
  {
   "cell_type": "code",
   "execution_count": 23,
   "id": "0c328ac4-8031-4058-967a-1be5c2f07303",
   "metadata": {},
   "outputs": [
    {
     "data": {
      "text/plain": [
       "<AxesSubplot: xlabel='airline', ylabel='count'>"
      ]
     },
     "execution_count": 23,
     "metadata": {},
     "output_type": "execute_result"
    },
    {
     "data": {
      "image/png": "[encoded data removed]",
      "text/plain": [
       "<Figure size 432x288 with 1 Axes>"
      ]
     },
     "metadata": {
      "needs_background": "light"
     },
     "output_type": "display_data"
    }
   ],
   "source": [
    "sns.countplot(x=df_ws_step5['airline'])"
   ]
  },
  {
   "cell_type": "markdown",
   "id": "43435476-7b84-458b-90dd-fdd00126ac6a",
   "metadata": {},
   "source": [
    "checking if some airline have worse opinions than other"
   ]
  },
  {
   "cell_type": "code",
   "execution_count": 24,
   "id": "1679c9ab-4077-4dde-aa14-9d38f77650ec",
   "metadata": {},
   "outputs": [
    {
     "data": {
      "text/html": [
       "<div>\n",
       "<style scoped>\n",
       "    .dataframe tbody tr th:only-of-type {\n",
       "        vertical-align: middle;\n",
       "    }\n",
       "\n",
       "    .dataframe tbody tr th {\n",
       "        vertical-align: top;\n",
       "    }\n",
       "\n",
       "    .dataframe thead tr th {\n",
       "        text-align: left;\n",
       "    }\n",
       "\n",
       "    .dataframe thead tr:last-of-type th {\n",
       "        text-align: right;\n",
       "    }\n",
       "</style>\n",
       "<table border=\"1\" class=\"dataframe\">\n",
       "  <thead>\n",
       "    <tr>\n",
       "      <th></th>\n",
       "      <th colspan=\"2\" halign=\"left\">tweet_count</th>\n",
       "    </tr>\n",
       "    <tr>\n",
       "      <th>airline_sentiment</th>\n",
       "      <th>negative</th>\n",
       "      <th>positive</th>\n",
       "    </tr>\n",
       "    <tr>\n",
       "      <th>airline</th>\n",
       "      <th></th>\n",
       "      <th></th>\n",
       "    </tr>\n",
       "  </thead>\n",
       "  <tbody>\n",
       "    <tr>\n",
       "      <th>American</th>\n",
       "      <td>1549</td>\n",
       "      <td>311</td>\n",
       "    </tr>\n",
       "    <tr>\n",
       "      <th>Delta</th>\n",
       "      <td>1</td>\n",
       "      <td>544</td>\n",
       "    </tr>\n",
       "    <tr>\n",
       "      <th>Southwest</th>\n",
       "      <td>0</td>\n",
       "      <td>570</td>\n",
       "    </tr>\n",
       "    <tr>\n",
       "      <th>US Airways</th>\n",
       "      <td>846</td>\n",
       "      <td>269</td>\n",
       "    </tr>\n",
       "    <tr>\n",
       "      <th>United</th>\n",
       "      <td>0</td>\n",
       "      <td>492</td>\n",
       "    </tr>\n",
       "    <tr>\n",
       "      <th>Virgin America</th>\n",
       "      <td>0</td>\n",
       "      <td>152</td>\n",
       "    </tr>\n",
       "  </tbody>\n",
       "</table>\n",
       "</div>"
      ],
      "text/plain": [
       "                  tweet_count         \n",
       "airline_sentiment    negative positive\n",
       "airline                               \n",
       "American                 1549      311\n",
       "Delta                       1      544\n",
       "Southwest                   0      570\n",
       "US Airways                846      269\n",
       "United                      0      492\n",
       "Virgin America              0      152"
      ]
     },
     "execution_count": 24,
     "metadata": {},
     "output_type": "execute_result"
    }
   ],
   "source": [
    "airline_check_groups = df_ws_step5.groupby(by=['airline','airline_sentiment']).agg(tweet_count = ('airline','count')).unstack(fill_value=0)\n",
    "airline_check_groups"
   ]
  },
  {
   "cell_type": "code",
   "execution_count": 25,
   "id": "a949df5d-cbe6-4449-b39e-b150903b56a3",
   "metadata": {},
   "outputs": [
    {
     "data": {
      "text/plain": [
       "<AxesSubplot: xlabel='airline'>"
      ]
     },
     "execution_count": 25,
     "metadata": {},
     "output_type": "execute_result"
    },
    {
     "data": {
      "image/png": "[encoded data removed]",
      "text/plain": [
       "<Figure size 432x288 with 1 Axes>"
      ]
     },
     "metadata": {
      "needs_background": "light"
     },
     "output_type": "display_data"
    }
   ],
   "source": [
    "airline_check_groups.plot(kind='bar')"
   ]
  },
  {
   "cell_type": "markdown",
   "id": "24a269f8-4f6f-4093-8a53-a4ab4aaa50b1",
   "metadata": {},
   "source": [
    "Clearly \"American\" and \"US Airways\" have much more negative feedback on twitter than other airlines"
   ]
  },
  {
   "cell_type": "code",
   "execution_count": 26,
   "id": "41ebdf6a-2a78-4920-9346-57180f8cd6bf",
   "metadata": {},
   "outputs": [],
   "source": [
    "#final clearance of not needed columns\n",
    "df_ws_step6 = df_ws_step5.drop(['airline_sentiment_confidence','negativereason','negativereason_confidence','retweet_count','if_retweeted'], axis=1)"
   ]
  },
  {
   "cell_type": "markdown",
   "id": "dbd0c3c6-19e5-4d21-90d9-485876f10b5b",
   "metadata": {},
   "source": [
    "## 6. \"text\" column \n",
    "this is the most important field of all for sure => text of the tweet"
   ]
  },
  {
   "cell_type": "markdown",
   "id": "7813b31b-53c7-45ce-8a7b-bb6c3409d31e",
   "metadata": {},
   "source": [
    "### 6.1 applying lowercase to all text"
   ]
  },
  {
   "cell_type": "code",
   "execution_count": 27,
   "id": "9e789cd0-2350-46c2-aaa6-c1ca30d19fc5",
   "metadata": {},
   "outputs": [],
   "source": [
    "df_ws_step6['text'] = df_ws_step6['text'].apply(lambda x: x.lower())"
   ]
  },
  {
   "cell_type": "markdown",
   "id": "614c455a-f972-48fb-8e10-ac4fb3b8e3c4",
   "metadata": {},
   "source": [
    "#7 Building a Model"
   ]
  },
  {
   "cell_type": "markdown",
   "id": "a21aa676-fa66-4a59-bd80-1df04031d258",
   "metadata": {},
   "source": [
    "## Using external tokenizer"
   ]
  },
  {
   "cell_type": "code",
   "execution_count": 28,
   "id": "d742361e-5849-4e3d-aa10-8cf3d5811e16",
   "metadata": {},
   "outputs": [],
   "source": [
    "df_ws_step7 = df_ws_step6[[\"text\",\"airline_sentiment\"]]\n",
    "df_ws_step7['text'] = df_ws_step7['text'].map(lambda x: x.lstrip('@VirginAmerica@UnitedAir@Southwestairline@DeltaAir@USAirways@American').rstrip('@'))\n",
    "df_ws_step7['text'] = df_ws_step7['text'].apply((lambda x: re.sub('[^a-zA-z0-9\\s]','',x))) # To keep numbers and strings only"
   ]
  },
  {
   "cell_type": "code",
   "execution_count": 29,
   "id": "99db4a4f-efc1-48c7-94a4-5487e78176f4",
   "metadata": {},
   "outputs": [],
   "source": [
    "max_fatures = 4000\n",
    "tokenizer = Tokenizer(num_words = max_fatures, split=' ')\n",
    "tokenizer.fit_on_texts(df_ws_step7['text'].values)\n",
    "X = tokenizer.texts_to_sequences(df_ws_step7['text'].values)\n",
    "X = pad_sequences(X)\n",
    "Y = df_ws_step7['airline_sentiment']\n",
    "k = Y.apply(lambda x: x.replace(\"positive\",\"1\")).apply(lambda x: x.replace(\"negative\",\"0\")).astype(int)"
   ]
  },
  {
   "cell_type": "markdown",
   "id": "e86515ba-5b42-4a70-8834-eddcf7a9a334",
   "metadata": {},
   "source": [
    "## 7 train, test split"
   ]
  },
  {
   "cell_type": "code",
   "execution_count": 30,
   "id": "c9bf1059-9ee5-47c2-85be-a736fbd6123e",
   "metadata": {},
   "outputs": [],
   "source": [
    "X_train, X_test, Y_train, Y_test = train_test_split(X, k, \n",
    "                                                    test_size=0.3, \n",
    "                                                    shuffle = True,\n",
    "                                                    stratify = k)"
   ]
  },
  {
   "cell_type": "markdown",
   "id": "7fbcaaa3-9b83-4b93-95fc-3c5134d633ee",
   "metadata": {},
   "source": [
    "## 8 building and training model"
   ]
  },
  {
   "cell_type": "code",
   "execution_count": 70,
   "id": "f8cfa8e3-a1ff-4e6d-ad5d-9a450f89d520",
   "metadata": {},
   "outputs": [],
   "source": [
    "embed_dim = 128\n",
    "lstm_out = 196\n",
    "model_2 = tf.keras.models.Sequential()\n",
    "model_2.add(tf.keras.layers.Embedding(max_fatures, 128, input_length=X_train.shape[1]))\n",
    "model_2.add(tf.keras.layers.SpatialDropout1D(0.5))\n",
    "model_2.add(tf.keras.layers.LSTM(196, dropout = 0.3, recurrent_dropout = 0.3 ))\n",
    "model_2.add(tf.keras.layers.Dropout(0.2))\n",
    "model_2.add(tf.keras.layers.Dense(100, activation = tf.nn.relu))\n",
    "model_2.add(tf.keras.layers.Dropout(0.4))\n",
    "model_2.add(tf.keras.layers.Dense(2, activation = tf.nn.softmax))"
   ]
  },
  {
   "cell_type": "code",
   "execution_count": 71,
   "id": "9c2bc4d1-77dc-4f17-8d5d-1eec17ed320f",
   "metadata": {},
   "outputs": [],
   "source": [
    "model_2.compile(optimizer=\"adam\", loss=\"sparse_categorical_crossentropy\", metrics=[\"accuracy\"])"
   ]
  },
  {
   "cell_type": "code",
   "execution_count": 72,
   "id": "f1c49b2e-2fba-4ff3-a3d9-99d6b4a2c656",
   "metadata": {},
   "outputs": [
    {
     "name": "stdout",
     "output_type": "stream",
     "text": [
      "Epoch 1/2\n"
     ]
    },
    {
     "name": "stderr",
     "output_type": "stream",
     "text": [
      "C:\\Users\\Piotr\\anaconda3\\lib\\site-packages\\keras\\engine\\data_adapter.py:1696: FutureWarning: The behavior of `series[i:j]` with an integer-dtype index is deprecated. In a future version, this will be treated as *label-based* indexing, consistent with e.g. `series[i]` lookups. To retain the old behavior, use `series.iloc[i:j]`. To get the future behavior, use `series.loc[i:j]`.\n",
      "  return t[start:end]\n"
     ]
    },
    {
     "name": "stdout",
     "output_type": "stream",
     "text": [
      "73/73 - 5s - loss: 0.5430 - accuracy: 0.7318 - val_loss: 0.3698 - val_accuracy: 0.8330 - 5s/epoch - 74ms/step\n",
      "Epoch 2/2\n",
      "73/73 - 3s - loss: 0.2602 - accuracy: 0.8995 - val_loss: 0.2426 - val_accuracy: 0.9074 - 3s/epoch - 43ms/step\n"
     ]
    }
   ],
   "source": [
    "Model_2 = model_2.fit(X_train,\n",
    "                      Y_train,\n",
    "                      epochs=10,\n",
    "                      batch_size=32,\n",
    "                      validation_split = 0.3,\n",
    "                      verbose = 2)"
   ]
  },
  {
   "cell_type": "markdown",
   "id": "0a89a108-02b5-413c-9168-c19767a51222",
   "metadata": {},
   "source": [
    "## 9 evaluating and predicting using model"
   ]
  },
  {
   "cell_type": "code",
   "execution_count": 73,
   "id": "ef5cf69c-8a8f-4a74-94e3-c685cf6c2739",
   "metadata": {},
   "outputs": [
    {
     "name": "stdout",
     "output_type": "stream",
     "text": [
      "loss = 0.23457291722297668\n",
      "accuracy = 0.9148486852645874\n"
     ]
    }
   ],
   "source": [
    "score_2 = model_2.evaluate(X_test, Y_test, verbose=False)\n",
    "print(f\"loss = {score_2[0]}\")\n",
    "print(f\"accuracy = {score_2[1]}\")"
   ]
  },
  {
   "cell_type": "code",
   "execution_count": 74,
   "id": "f3887b8d-19f2-413f-9c0d-5fe99ebffdc8",
   "metadata": {},
   "outputs": [],
   "source": [
    "def predict_sentence_sentiment(sentence:str, model: tf.keras.models.Sequential):\n",
    "    \"\"\"\n",
    "    predicting sentiment (negative/positive) based on keras model and sentence(str)\n",
    "    \"\"\"\n",
    "    sample = tokenizer.texts_to_sequences([sentence]) #needs sentence as a list\n",
    "    sample = pad_sequences(sample, maxlen=31, dtype='int32', value=0)\n",
    "    #print(sample)\n",
    "    sentiment_prob = model.predict(sample, batch_size=1, verbose=2)[0]\n",
    "    print(sentiment_prob)\n",
    "    if (np.argmax(sentiment_prob)==0):\n",
    "        return \"negative\"\n",
    "    elif (np.argmax(sentiment_prob)==1):\n",
    "        return \"positive\""
   ]
  },
  {
   "cell_type": "markdown",
   "id": "1ea27982-1818-4b38-8592-465dcc5526b1",
   "metadata": {},
   "source": [
    "# 10 Tests"
   ]
  },
  {
   "cell_type": "code",
   "execution_count": 75,
   "id": "5bcc93d8-da8d-459b-a2c5-a00741df8fb7",
   "metadata": {},
   "outputs": [
    {
     "name": "stdout",
     "output_type": "stream",
     "text": [
      "1/1 - 0s - 174ms/epoch - 174ms/step\n",
      "[0.18139032 0.8186097 ]\n"
     ]
    },
    {
     "data": {
      "text/plain": [
       "'positive'"
      ]
     },
     "execution_count": 75,
     "metadata": {},
     "output_type": "execute_result"
    }
   ],
   "source": [
    "predict_sentence_sentiment(\"There was a massive delay, and the crew was not nice\", model_2)"
   ]
  },
  {
   "cell_type": "code",
   "execution_count": 76,
   "id": "721f55fe-b679-49b7-90e9-36c4967d5747",
   "metadata": {},
   "outputs": [],
   "source": [
    "## chosing random text from data \n",
    "random_sentence = random.choice(df_ws_step7['text'].to_list())"
   ]
  },
  {
   "cell_type": "code",
   "execution_count": 77,
   "id": "1dcb15fb-5d39-4fa7-a7e0-b5b2221602de",
   "metadata": {},
   "outputs": [],
   "source": [
    "known_sentiment = df_ws_step7['airline_sentiment'][df_ws_step7['text']==random_sentence].to_list()[0]"
   ]
  },
  {
   "cell_type": "code",
   "execution_count": 78,
   "id": "dbc29f3d-3e08-403c-a29b-edeb50ee08c1",
   "metadata": {},
   "outputs": [
    {
     "name": "stdout",
     "output_type": "stream",
     "text": [
      "RANDOM TEXT:  loving the boarding to go to chicago keepitmovin\n",
      "KNOWN SENTIMENT: positive\n"
     ]
    }
   ],
   "source": [
    "print(f\"RANDOM TEXT: {random_sentence}\")\n",
    "print(f\"KNOWN SENTIMENT: {known_sentiment}\")"
   ]
  },
  {
   "cell_type": "code",
   "execution_count": 79,
   "id": "12b58272-c7c0-4076-ba60-5922543f4890",
   "metadata": {},
   "outputs": [],
   "source": [
    "#check sentiment"
   ]
  },
  {
   "cell_type": "code",
   "execution_count": 80,
   "id": "530e592c-e81b-4ae2-97d8-12e99e556d1d",
   "metadata": {},
   "outputs": [
    {
     "name": "stdout",
     "output_type": "stream",
     "text": [
      "1/1 - 0s - 32ms/epoch - 32ms/step\n",
      "[0.10775878 0.8922412 ]\n"
     ]
    },
    {
     "data": {
      "text/plain": [
       "'positive'"
      ]
     },
     "execution_count": 80,
     "metadata": {},
     "output_type": "execute_result"
    }
   ],
   "source": [
    "model_prediction = predict_sentence_sentiment(random_sentence,model_2)\n",
    "model_prediction"
   ]
  },
  {
   "cell_type": "code",
   "execution_count": 81,
   "id": "38d6fc40-2659-4654-866e-d84c1bbe0a85",
   "metadata": {},
   "outputs": [
    {
     "name": "stdout",
     "output_type": "stream",
     "text": [
      "correctly predicted sentiment of text:  loving the boarding to go to chicago keepitmovin \n",
      "As:  'positive'\n"
     ]
    }
   ],
   "source": [
    "# compare\n",
    "if model_prediction==known_sentiment:\n",
    "    print(f\"correctly predicted sentiment of text: {random_sentence} \\nAs:  '{model_prediction}'\")\n",
    "else:\n",
    "    print(f\"incorrect prediction of text: {random_sentence}\\nPredicted: {model_prediction}\\nCorrect: {known_sentiment}\")"
   ]
  },
  {
   "cell_type": "markdown",
   "id": "c5e464e6-0a6d-45d6-a676-0e2036f17e13",
   "metadata": {},
   "source": [
    "# 11 confusion matrix"
   ]
  },
  {
   "cell_type": "code",
   "execution_count": 82,
   "id": "ca7f1634-961d-4d5b-8c1c-9292e142697b",
   "metadata": {},
   "outputs": [
    {
     "name": "stdout",
     "output_type": "stream",
     "text": [
      "45/45 [==============================] - 1s 8ms/step\n"
     ]
    }
   ],
   "source": [
    "y_pred = model_2.predict(X_test)\n",
    "y_pred_classes = np.argmax(y_pred,axis = 1) "
   ]
  },
  {
   "cell_type": "code",
   "execution_count": 83,
   "id": "c4bcab98-cacc-4979-b820-1e5adb98efa3",
   "metadata": {},
   "outputs": [
    {
     "data": {
      "text/plain": [
       "array([[648,  71],\n",
       "       [ 50, 652]], dtype=int64)"
      ]
     },
     "execution_count": 83,
     "metadata": {},
     "output_type": "execute_result"
    }
   ],
   "source": [
    "confusion_matrix(Y_test, y_pred_classes) "
   ]
  },
  {
   "cell_type": "code",
   "execution_count": 84,
   "id": "f09dcfdf-dc52-46cf-b613-c8e37c1dd223",
   "metadata": {},
   "outputs": [
    {
     "data": {
      "text/plain": [
       "<keras.engine.sequential.Sequential at 0x2486da654f0>"
      ]
     },
     "execution_count": 84,
     "metadata": {},
     "output_type": "execute_result"
    }
   ],
   "source": [
    "model_2"
   ]
  },
  {
   "cell_type": "markdown",
   "id": "fa5f4ef6-02f9-4ced-a015-988040aea2b3",
   "metadata": {},
   "source": [
    "# Notes"
   ]
  },
  {
   "cell_type": "code",
   "execution_count": null,
   "id": "88d71df1-fa4c-4421-8150-f5209e6eb311",
   "metadata": {},
   "outputs": [],
   "source": []
  },
  {
   "cell_type": "code",
   "execution_count": null,
   "id": "222c43d3-afb1-46e1-aca1-67112c3ae5f7",
   "metadata": {},
   "outputs": [],
   "source": []
  }
 ],
 "metadata": {
  "kernelspec": {
   "display_name": "Python 3 (ipykernel)",
   "language": "python",
   "name": "python3"
  },
  "language_info": {
   "codemirror_mode": {
    "name": "ipython",
    "version": 3
   },
   "file_extension": ".py",
   "mimetype": "text/x-python",
   "name": "python",
   "nbconvert_exporter": "python",
   "pygments_lexer": "ipython3",
   "version": "3.9.7"
  }
 },
 "nbformat": 4,
 "nbformat_minor": 5
}
